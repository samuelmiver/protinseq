{
 "cells": [
  {
   "cell_type": "markdown",
   "metadata": {},
   "source": [
    "# 1. Loading a dataset with ANUBIS (optional)\n",
    "\n",
    "Although not required for this analysis, ANUBIS package provides additional functions to work with insertion data. If needed, you can install this python package from [ANUBIS](https://github.com/CRG-CNAG/anubis) and then run the following code to obtain an anubis dataset:\n",
    "\n",
    "```python\n",
    "import anubis_core as ac\n",
    "all_reads = {}\n",
    "allfiles = {your_ide1:path1.qins, ..., your_ideN:pathN.qins}\n",
    "\n",
    "for k, v in allfiles.items():\n",
    "    all_reads[k] = qt.dataset(v, genome_location).zreads\n",
    "```\n"
   ]
  },
  {
   "cell_type": "markdown",
   "metadata": {},
   "source": [
    "# 2. Case example with *Mycoplasma pneumoniae*\n",
    "\n",
    "Here we present a series of analysis used for the associated publication. We start first loading the required packages and configurations for this notebook:\n"
   ]
  },
  {
   "cell_type": "code",
   "execution_count": null,
   "metadata": {},
   "outputs": [],
   "source": [
    "# Jupyter magics\n",
    "\n",
    "%load_ext autoreload\n",
    "%autoreload 2\n",
    "#%matplotlib widget\n",
    "\n",
    "#%matplotlib inline\n",
    "\n",
    "import re\n",
    "import glob\n",
    "import pickle\n",
    "import sys, os\n",
    "import numpy as np\n",
    "import pandas as pd\n",
    "import seaborn as sns\n",
    "import matplotlib.pyplot as plt\n",
    "from collections import Counter\n",
    "\n",
    "pd.set_option('display.max_columns', None)\n",
    "sns.set_style(\"whitegrid\", {'axes.grid' : False})\n",
    "\n",
    "from IPython.display import clear_output\n",
    "clear_output(wait=True)\n",
    "\n",
    "# Custom functions from protinseq_tools.py (provided along this notebook)\n",
    "import protinseq_tools as pst"
   ]
  },
  {
   "cell_type": "markdown",
   "metadata": {},
   "source": [
    "## 2.1. Comprehensive omics information for *M. pneumoniae*\n",
    "\n",
    "We also provide a series of files including relevant information in `./data/` for plotting (such as associate omic data) and a minimal control-condition library example (Cm A and Cm B grown with 15 ug/ml of chloramphenicol) to showcase some analysis. This information is mostly saved in pickle format for which we provide a basic set of functions to upload. The files included are:\n",
    "\n",
    "- `example_reads.dat`: a dictionary {ide:array} where ide represents the unique identifier of the library and array includes the read count of insertion per genome base. \n",
    "- `myco_pneumoniae_m129.gb`: latest version of the genome of *M. pneumoniae* in genbank format.\n",
    "- `orfs_df.tsv`: a dataframe with the start, end and strand annotation of the ORFs to explore (you can produce this with RanSEPs orffinder function).\n",
    "- `annotations.dat`: a list of dictionaries with orfs, ncbi genes, functional rnas and MPN to mpneu translation dictionaries. \n",
    "- `intergenic.dat`: a dictionary with intergenic annotations. \n",
    "- `sequences.dat`: a list of dictionaries with nt and aa sequences. \n",
    "- `omics.dat`: RNA-Seq pile-ups and peptides identified by MS. \n",
    "- `mycoinfo.tsv`: a dataframe containing comprehensive information for each annotation analyzed. \n"
   ]
  },
  {
   "cell_type": "code",
   "execution_count": null,
   "metadata": {},
   "outputs": [],
   "source": [
    "all_reads                              = pst.LoadPickle('./data/example_reads.dat')\n",
    "genome_location                        ='./data/myco_pneumoniae_m129.gb'            # We provide just the location\n",
    "orfs_df                                = pd.read_csv('./data/orfs_df.tsv', sep='\\t', index_col=0)\n",
    "orfs, ncbi, rnas, mpn2mpneu, mpneu2mpn = pst.LoadPickle('./data/annotations.dat')\n",
    "igan                                   = pst.LoadPickle('./data/intergenic.dat')\n",
    "nt_seqs, aa_seqs                       = pst.LoadPickle('./data/sequences.dat')\n",
    "piles, peptide_map                     = pst.LoadPickle('./data/omics.dat')\n",
    "extmycoinfo                            = pd.read_csv('./data/mycoinfo.tsv', sep='\\t', index_col=0)"
   ]
  },
  {
   "cell_type": "code",
   "execution_count": null,
   "metadata": {},
   "outputs": [],
   "source": [
    "orfs_df"
   ]
  },
  {
   "cell_type": "code",
   "execution_count": null,
   "metadata": {},
   "outputs": [],
   "source": [
    "extmycoinfo"
   ]
  },
  {
   "cell_type": "markdown",
   "metadata": {},
   "source": [
    "## 2.2. Metrics by frame\n",
    "\n",
    "To retrieve the main metrics by frame for an annotation in the library:"
   ]
  },
  {
   "cell_type": "code",
   "execution_count": null,
   "metadata": {},
   "outputs": [],
   "source": [
    "pst.get_f_metric(all_reads['Cm_B_15_neg_1'], ncbi['MPN447'], thr=0) # Threshold can be used to remove insertions by minimum value of reads. "
   ]
  },
  {
   "cell_type": "code",
   "execution_count": null,
   "metadata": {},
   "outputs": [],
   "source": [
    "df = pst.get_f_metric(all_reads['Cm_B_15_neg_1'], ncbi['MPN447'])\n",
    "plt.figure()\n",
    "sns.barplot(x='frame', y='value', data=df[df['metric']=='I'])\n",
    "plt.ylabel('Nr Ins')"
   ]
  },
  {
   "cell_type": "markdown",
   "metadata": {},
   "source": [
    "It can be observThis can be iterated to collect multiple metrics per sample for genes."
   ]
  },
  {
   "cell_type": "markdown",
   "metadata": {},
   "source": [
    "## 2.3. Basic plotting function\n",
    "\n",
    "This function interacts with the function pst.psplot function to provide complex visualizations of the insertions profiles:"
   ]
  },
  {
   "cell_type": "code",
   "execution_count": null,
   "metadata": {},
   "outputs": [],
   "source": [
    "def plot_ide(ide='region', coords=None,\n",
    "             query=None, wdw_size=5, tracks=[1,1,1,1,1,1,1], strand_specific=True, extra=100, \n",
    "             list_of_samples=None, profile=None, alt_start=True):\n",
    "    if ide!='region':\n",
    "        coords = list(extmycoinfo.loc[extmycoinfo['gene']==ide, ['start', 'end', 'strand']].values[0])\n",
    "    elif coords:\n",
    "        alt_start=False\n",
    "        pass\n",
    "    if strand_specific:\n",
    "        if coords[-1]=='+':        \n",
    "            q = 'pos'\n",
    "        else:\n",
    "            q = 'neg'\n",
    "    # Define query\n",
    "    if profile:\n",
    "        profile = {'custom':profile}\n",
    "    else:\n",
    "        if list_of_samples:\n",
    "            profile = {k:all_reads[k] for k in list_of_samples}\n",
    "        elif query:\n",
    "            if type(query)==str:\n",
    "                query = [query]\n",
    "            if type(query[0])==str:\n",
    "                if strand_specific:\n",
    "                    query.append(q)\n",
    "                profile = ps.return_sample(all_reads, select_all=query)\n",
    "            elif type(query[0])==list:\n",
    "                if strand_specific:\n",
    "                    query[0].append(q)\n",
    "                if len(query)==2:\n",
    "                    profile = ps.return_sample(all_reads, select_all=query[0], select_any=query[1])\n",
    "                elif len(query)==3:\n",
    "                    profile = ps.return_sample(all_reads, select_all=query[0], select_any=query[1], exclude=query[2])\n",
    "            else:\n",
    "                sys.exit('provide accepted query')\n",
    "        else:\n",
    "            profile = None    \n",
    "    pst.psplot(coords=coords, ide=ide, \n",
    "               piles=piles, profile=profile, \n",
    "               nt_seq=nt_seqs.get(ide, None), alt_start=alt_start,\n",
    "               # query=query,\n",
    "               peptides=peptide_map.get(ide, None), tracks=tracks, wdw_size=5,\n",
    "               aa_seq=aa_seqs.get(ide, None), extra=extra, annotation=orfs_df)"
   ]
  },
  {
   "cell_type": "markdown",
   "metadata": {},
   "source": [
    "### 2.3.1. Plotting a gene by name:"
   ]
  },
  {
   "cell_type": "code",
   "execution_count": null,
   "metadata": {},
   "outputs": [],
   "source": [
    "plot_ide(mpn2mpneu['MPN001'], profile=list(all_reads['Cm_A_15_pos_1']))"
   ]
  },
  {
   "cell_type": "markdown",
   "metadata": {},
   "source": [
    "Each row presents (in order):\n",
    "- RNA-Seq profile\n",
    "- unique tryptic peptides identified by Mass-spec\n",
    "- mapped insertions colored by frame (as many samples as provided)\n",
    "- the transmembrane prediction with TMHMM\n",
    "- the accumulated windows analysis of insertion profiles\n",
    "- the map of annotation in the region\n",
    "\n",
    "Notice the sample orientation identifier (positive strand) matches the one of the gene. \n",
    "\n",
    "### 2.3.2. Minimal plot (no omics, or no tmhmm)\n",
    "\n",
    "**Update** the TMHMM 2.0 library seems to be incompatible with most of the newer numpy version. For a minimal plot just to display annotation and frame selection (or if you lack the rest of the omic data), you can always do:"
   ]
  },
  {
   "cell_type": "code",
   "execution_count": null,
   "metadata": {},
   "outputs": [],
   "source": [
    "plot_ide(mpn2mpneu['MPN001'], profile=list(all_reads['Cm_B_15_pos_1']), tracks=[0,0,1,0,0,0,1])"
   ]
  },
  {
   "cell_type": "markdown",
   "metadata": {},
   "source": [
    "### 2.3.3. Plotting multiple profiles:\n",
    "\n",
    "The function will check directly in the all_reads dictionary, this can be use to plot all replicates with a given text match. In this case, we plot the gene MPN593. Green lines in the transmembrane track represent 'ruptures' in the profile, these are points of changes in the distribution for the insertion prediction which in this case are representative of the transmembrane protein topology:"
   ]
  },
  {
   "cell_type": "code",
   "execution_count": null,
   "metadata": {},
   "outputs": [],
   "source": [
    "plot_ide(ide='mpneu25694', list_of_samples=[k for k in all_reads.keys() if 'Cm_B_15_neg' in k], tracks=[0,0,1,0,0,0,1]) # Only annotations"
   ]
  },
  {
   "cell_type": "markdown",
   "metadata": {},
   "source": [
    "### 2.3.4. Selecting which elements to plot by coordinates:\n",
    "\n",
    "You can also plot specific coordinates hiding elements which are relative to a gene with the tracks argument. In this case we plot the example from the manuscript supplementary figure 7:"
   ]
  },
  {
   "cell_type": "code",
   "execution_count": null,
   "metadata": {},
   "outputs": [],
   "source": [
    "plot_ide(coords=[543300,553520, '-'], list_of_samples=[k for k in all_reads.keys() if '_15_neg_1' in k], tracks=[0,0,1,0,0,0,0])"
   ]
  },
  {
   "cell_type": "markdown",
   "metadata": {},
   "source": [
    "## 2.4. Metagene comparative\n",
    "\n",
    "A metagene can be quickly retrieved for a list of annotations by:"
   ]
  },
  {
   "cell_type": "code",
   "execution_count": null,
   "metadata": {},
   "outputs": [],
   "source": [
    "your_annotations = [v for k,v in ncbi.items() if v[-1]=='-']   # annotations from NCBI in the complementary strand\n",
    "metagene = pst.metagene_by_frame(all_reads['Cm_B_15_neg_1'], your_annotations, frame=1, metric='R', step=100, gl=816394)"
   ]
  },
  {
   "cell_type": "markdown",
   "metadata": {},
   "source": [
    "- accepted_metrics by the function include: `'sum', 'std', 'mean', 'median', 'count', 'L', 'min', 'max', 'I', 'dens', 'R', 'RI', 'CPM', 'RPKM'.`\n",
    "- step defines the number of bins (100 in this case). \n",
    "- gl represents the genome length, used for normalization purposes. \n",
    "\n",
    "Then this metagene can be plotted:"
   ]
  },
  {
   "cell_type": "code",
   "execution_count": null,
   "metadata": {},
   "outputs": [],
   "source": [
    "plt.figure(figsize=(10,2))\n",
    "plt.plot(np.sum(metagene, axis=1))\n",
    "plt.ylabel('Sum of reads')\n",
    "plt.xlabel('bin')\n",
    "plt.tight_layout()"
   ]
  }
 ],
 "metadata": {
  "kernelspec": {
   "display_name": "base",
   "language": "python",
   "name": "python3"
  },
  "language_info": {
   "codemirror_mode": {
    "name": "ipython",
    "version": 3
   },
   "file_extension": ".py",
   "mimetype": "text/x-python",
   "name": "python",
   "nbconvert_exporter": "python",
   "pygments_lexer": "ipython3",
   "version": "3.9.22"
  }
 },
 "nbformat": 4,
 "nbformat_minor": 4
}
